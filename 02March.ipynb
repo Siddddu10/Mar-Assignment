{
 "cells": [
  {
   "cell_type": "code",
   "execution_count": 25,
   "id": "031c2ff0-e36f-4ca8-9232-0073be8021e8",
   "metadata": {},
   "outputs": [
    {
     "ename": "AttributeError",
     "evalue": "'Figure' object has no attribute 'subplot'",
     "output_type": "error",
     "traceback": [
      "\u001b[0;31m---------------------------------------------------------------------------\u001b[0m",
      "\u001b[0;31mAttributeError\u001b[0m                            Traceback (most recent call last)",
      "Cell \u001b[0;32mIn[25], line 64\u001b[0m\n\u001b[1;32m     61\u001b[0m y4 \u001b[38;5;241m=\u001b[39m np\u001b[38;5;241m.\u001b[39marray([\u001b[38;5;241m200\u001b[39m, \u001b[38;5;241m350\u001b[39m, \u001b[38;5;241m250\u001b[39m, \u001b[38;5;241m550\u001b[39m, \u001b[38;5;241m450\u001b[39m, \u001b[38;5;241m150\u001b[39m])\n\u001b[1;32m     63\u001b[0m fig\u001b[38;5;241m=\u001b[39mplt\u001b[38;5;241m.\u001b[39mfigure()\n\u001b[0;32m---> 64\u001b[0m sub_p\u001b[38;5;241m=\u001b[39m\u001b[43mfig\u001b[49m\u001b[38;5;241;43m.\u001b[39;49m\u001b[43msubplot\u001b[49m(\u001b[38;5;241m2\u001b[39m,\u001b[38;5;241m2\u001b[39m,\u001b[38;5;241m1\u001b[39m)\n\u001b[1;32m     65\u001b[0m sub_p\u001b[38;5;241m.\u001b[39mplot(x1,y1)\n\u001b[1;32m     66\u001b[0m sub_p\u001b[38;5;241m=\u001b[39mfig\u001b[38;5;241m.\u001b[39madd_subplot(\u001b[38;5;241m2\u001b[39m,\u001b[38;5;241m2\u001b[39m,\u001b[38;5;241m2\u001b[39m)\n",
      "\u001b[0;31mAttributeError\u001b[0m: 'Figure' object has no attribute 'subplot'"
     ]
    },
    {
     "data": {
      "image/png": "[encoded data removed]",
      "text/plain": [
       "<Figure size 640x480 with 1 Axes>"
      ]
     },
     "metadata": {},
     "output_type": "display_data"
    },
    {
     "data": {
      "text/plain": [
       "<Figure size 640x480 with 0 Axes>"
      ]
     },
     "metadata": {},
     "output_type": "display_data"
    }
   ],
   "source": [
    "'''Q1: What is Matplotlib? Why is it used? Name five plots that can be plotted using the Pyplot module of\n",
    "Matplotlib.\n",
    "\n",
    "Ans-Matplotlib is a popular data visualization library in Python. It provides a wide range of \n",
    "tools for creating various types of plots and visualizations. Matplotlib is used for tasks such \n",
    "as exploring data, presenting findings, and communicating insights effectively. Some key \n",
    "features of Matplotlib include its flexibility, extensive customization options, and \n",
    "compatibility with various operating systems and file formats.\n",
    "Here are five types of plots that can be plotted using the Pyplot module:\n",
    " \n",
    "1)Line plot\n",
    "2)Scatter plot\n",
    "3)Bar plot\n",
    "4)Histogram\n",
    "5)Pie chart\n",
    "\n",
    "Q2: What is a scatter plot? Use the following code to generate data for x and y. Using this \n",
    "generated data plot a scatter plot.\n",
    "import numpy as np\n",
    "np.random.seed(3)\n",
    "x = 3 + np.random.normal(0, 2, 50)\n",
    "y = 3 + np.random.normal(0, 2, len(x))\n",
    "Note: Also add title, xlabel, and ylabel to the plot.\n",
    "\n",
    "Ans-\n",
    "Scatter plot: A plot that displays individual data points as markers on a 2D plane, often used \n",
    "to analyze the relationship between two variables.'''\n",
    "#Code\n",
    "import matplotlib.pyplot as plt\n",
    "import numpy as np\n",
    "np.random.seed(3)\n",
    "x = 3 + np.random.normal(0, 2, 50)\n",
    "y = 3 + np.random.normal(0, 2, len(x))\n",
    "plt.scatter(x,y)\n",
    "plt.title(\"Scatter Plot\")\n",
    "plt.xlabel(\"x axis\")\n",
    "plt.ylabel(\"y axis\")\n",
    "\n",
    "'''Q3: Why is the subplot() function used? Draw four line plots using the subplot() function.\n",
    "Use the following data:\n",
    "import numpy as np\n",
    "For line 1: x = np.array([0, 1, 2, 3, 4, 5]) and y = np.array([0, 100, 200, 300, 400, 500])\n",
    "For line 2: x = np.array([0, 1, 2, 3, 4, 5]) and y = np.array([50, 20, 40, 20, 60, 70])\n",
    "For line 3: x = np.array([0, 1, 2, 3, 4, 5]) and y = np.array([10, 20, 30, 40, 50, 60])\n",
    "For line 4: x = np.array([0, 1, 2, 3, 4, 5]) and y = np.array([200, 350, 250, 550, 450, 150])\n",
    "\n",
    "Ans-The subplot() function in Matplotlib is used to create a grid of subplots within a single\n",
    "figure. It allows you to divide the figure area into a specified number of rows and columns,\n",
    "and then select a specific subplot within that grid to plot your data.\n",
    "'''\n",
    "#Code\n",
    "import matplotlib.pyplot as plt\n",
    "import numpy as np\n",
    "x1=np.array([0, 1, 2, 3, 4, 5])\n",
    "y1=np.array([0, 100, 200, 300, 400, 500])\n",
    "x2 =np.array([0, 1, 2, 3, 4, 5])\n",
    "y2 = np.array([50, 20, 40, 20, 60, 70])\n",
    "x3 =np.array([0, 1, 2, 3, 4, 5])\n",
    "y3 = np.array([10, 20, 30, 40, 50, 60])\n",
    "x4 =np.array([0, 1, 2, 3, 4, 5])\n",
    "y4 = np.array([200, 350, 250, 550, 450, 150])\n",
    "\n",
    "fig=plt.figure()\n",
    "sub_p=fig.add_subplot(2,2,1)\n",
    "sub_p.plot(x1,y1)\n",
    "sub_p=fig.add_subplot(2,2,2)\n",
    "sub_p.plot(x2,y2)\n",
    "sub_p=fig.add_subplot(2,2,3)\n",
    "sub_p.plot(x3,y3)\n",
    "sub_p=fig.add_subplot(2,2,4)\n",
    "sub_p.plot(x4,y4)\n",
    "plt.show()\n",
    "\n",
    "'''Q4: What is a bar plot? Why is it used? Using the following data plot a bar plot and a horizontal bar plot.\n",
    "import numpy as np\n",
    "company = np.array([\"Apple\", \"Microsoft\", \"Google\", \"AMD\"])\n",
    "profit = np.array([3000, 8000, 1000, 10000])\n",
    "\n",
    "Ans-A bar plot is a type of chart that presents categorical data with rectangular bars, where\n",
    "the length or height of each bar corresponds to the value of the category it represents.\n",
    "Bar plots are commonly used to compare and visualize different categories or groups of data,\n",
    "showing the magnitude or frequency of each category\n",
    "'''\n",
    "#code\n",
    "import matplotlib.pyplot as plt \n",
    "import numpy as np\n",
    "company = np.array([\"Apple\", \"Microsoft\", \"Google\", \"AMD\"])\n",
    "profit = np.array([3000, 8000, 1000, 10000])\n",
    "plt.subplot(1,2,1)\n",
    "plt.bar(company,profit)\n",
    "plt.subplot(1,2,2)\n",
    "plt.barh(company,profit)\n",
    "plt.show()\n",
    "'''Q5: What is a box plot? Why is it used? Using the following data plot a box plot.\n",
    "box1 = np.random.normal(100, 10, 200)\n",
    "box2 = np.random.normal(90, 20, 200)\n",
    "\n",
    "Ans-A box plot, also known as a box-and-whisker plot, is a graphical representation of a \n",
    "dataset's summary statistics. It displays the distribution of a numerical variable across\n",
    "different categories or groups. The box plot provides a concise summary of the data's central\n",
    "tendency, dispersion, and potential outliers.\n",
    "'''\n",
    "#code\n"
   ]
  },
  {
   "cell_type": "code",
   "execution_count": 4,
   "id": "999caeb7-ee06-4b7a-be3d-a63fea985725",
   "metadata": {},
   "outputs": [
    {
     "data": {
      "text/plain": [
       "array([ 5.02636688,  4.70559568,  5.216375  ,  5.23878131,  5.97508626,\n",
       "        0.76339863,  4.69166681, -0.72177906,  1.79422979, -0.82894409,\n",
       "        5.09629502,  5.66747564,  2.60517064,  6.54929006,  1.65054498,\n",
       "        3.30123373,  3.30589141,  0.87160945,  3.87589322,  6.87795692,\n",
       "        0.95013825,  4.79867689,  2.6909863 ,  6.53925461,  3.9675767 ,\n",
       "        4.3524328 ,  4.28632656,  3.49817341,  0.20847299,  5.78332582,\n",
       "        0.25866197,  3.47712638,  4.22815418,  1.32417545,  3.29012643,\n",
       "        5.33576457,  2.95179106,  1.22268516, -2.8314755 ,  1.05631899,\n",
       "        1.81784252,  1.96716526,  1.08000764,  3.75459047,  1.85058316,\n",
       "        2.78109133,  4.3581432 ,  1.28912566,  2.39958785,  7.31629868])"
      ]
     },
     "execution_count": 4,
     "metadata": {},
     "output_type": "execute_result"
    }
   ],
   "source": [
    "y"
   ]
  },
  {
   "cell_type": "code",
   "execution_count": 49,
   "id": "3beec4ed-6e7e-462e-8b8a-c8d1a925c9af",
   "metadata": {},
   "outputs": [
    {
     "data": {
      "text/plain": [
       "{'whiskers': [<matplotlib.lines.Line2D at 0x7eff9bc4dc00>,\n",
       "  <matplotlib.lines.Line2D at 0x7eff9bc4dea0>],\n",
       " 'caps': [<matplotlib.lines.Line2D at 0x7eff9bc4e140>,\n",
       "  <matplotlib.lines.Line2D at 0x7eff9bc4e3e0>],\n",
       " 'boxes': [<matplotlib.lines.Line2D at 0x7eff9bc4d960>],\n",
       " 'medians': [<matplotlib.lines.Line2D at 0x7eff9bc4e680>],\n",
       " 'fliers': [<matplotlib.lines.Line2D at 0x7eff9bc4e920>],\n",
       " 'means': []}"
      ]
     },
     "execution_count": 49,
     "metadata": {},
     "output_type": "execute_result"
    },
    {
     "data": {
      "image/png": "[encoded data removed]",
      "text/plain": [
       "<Figure size 640x480 with 2 Axes>"
      ]
     },
     "metadata": {},
     "output_type": "display_data"
    }
   ],
   "source": []
  },
  {
   "cell_type": "code",
   "execution_count": null,
   "id": "f49e7415-a00a-4917-971b-a4b58fcb6c39",
   "metadata": {},
   "outputs": [],
   "source": []
  }
 ],
 "metadata": {
  "kernelspec": {
   "display_name": "Python 3 (ipykernel)",
   "language": "python",
   "name": "python3"
  },
  "language_info": {
   "codemirror_mode": {
    "name": "ipython",
    "version": 3
   },
   "file_extension": ".py",
   "mimetype": "text/x-python",
   "name": "python",
   "nbconvert_exporter": "python",
   "pygments_lexer": "ipython3",
   "version": "3.10.8"
  }
 },
 "nbformat": 4,
 "nbformat_minor": 5
}
